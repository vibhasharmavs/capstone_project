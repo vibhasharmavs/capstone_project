{
    "cells": [
        {
            "cell_type": "code",
            "execution_count": 22,
            "metadata": {},
            "outputs": [
                {
                    "name": "stdout",
                    "output_type": "stream",
                    "text": "Requirement already satisfied: geocoder in /opt/conda/envs/Python36/lib/python3.6/site-packages (1.38.1)\nRequirement already satisfied: future in /opt/conda/envs/Python36/lib/python3.6/site-packages (from geocoder) (0.17.1)\nRequirement already satisfied: requests in /opt/conda/envs/Python36/lib/python3.6/site-packages (from geocoder) (2.21.0)\nRequirement already satisfied: six in /opt/conda/envs/Python36/lib/python3.6/site-packages (from geocoder) (1.12.0)\nRequirement already satisfied: click in /opt/conda/envs/Python36/lib/python3.6/site-packages (from geocoder) (7.0)\nRequirement already satisfied: ratelim in /opt/conda/envs/Python36/lib/python3.6/site-packages (from geocoder) (0.1.6)\nRequirement already satisfied: urllib3<1.25,>=1.21.1 in /opt/conda/envs/Python36/lib/python3.6/site-packages (from requests->geocoder) (1.24.1)\nRequirement already satisfied: chardet<3.1.0,>=3.0.2 in /opt/conda/envs/Python36/lib/python3.6/site-packages (from requests->geocoder) (3.0.4)\nRequirement already satisfied: idna<2.9,>=2.5 in /opt/conda/envs/Python36/lib/python3.6/site-packages (from requests->geocoder) (2.8)\nRequirement already satisfied: certifi>=2017.4.17 in /opt/conda/envs/Python36/lib/python3.6/site-packages (from requests->geocoder) (2019.9.11)\nRequirement already satisfied: decorator in /opt/conda/envs/Python36/lib/python3.6/site-packages (from ratelim->geocoder) (4.3.2)\nPackages installed.\n"
                }
            ],
            "source": "import sys\n!{sys.executable} -m pip install geocoder\n\nprint('Packages installed.')"
        },
        {
            "cell_type": "code",
            "execution_count": 23,
            "metadata": {},
            "outputs": [
                {
                    "name": "stdout",
                    "output_type": "stream",
                    "text": "Libraries imported.\n"
                }
            ],
            "source": "\nimport numpy as np # library to handle data in a vectorized manner\nimport pandas as pd # library for data analsysis\nimport geocoder # import geocoder\nimport requests \nfrom bs4 import BeautifulSoup \n\nprint('Libraries imported.')"
        },
        {
            "cell_type": "code",
            "execution_count": 24,
            "metadata": {},
            "outputs": [
                {
                    "name": "stdout",
                    "output_type": "stream",
                    "text": "Page Scrapped.\n"
                }
            ],
            "source": "URL = \"https://www.wikizeroo.org/index.php?q=aHR0cHM6Ly9lbi53aWtpcGVkaWEub3JnL3dpa2kvTGlzdF9vZl9wb3N0YWxfY29kZXNfb2ZfQ2FuYWRhOl9N\"\nr = requests.get(URL) \n  \nsoup = BeautifulSoup(r.content, 'html5lib') \ntable = soup.find('div', attrs = {'id':'container'}) \n\n# print(soup.prettify()) \nprint('Page Scrapped.')"
        },
        {
            "cell_type": "code",
            "execution_count": 25,
            "metadata": {},
            "outputs": [
                {
                    "name": "stdout",
                    "output_type": "stream",
                    "text": "Data Collected.\n"
                }
            ],
            "source": "\npostalCodes = [];\nboroughs= [];\nneighborhoods = [];\ncolumnNum = 1;\npassVal = False\n\nfor row in soup.find_all('td'):\n    for cell in row:\n        if cell.string and cell.string[0].isalpha() and len(cell.string) > 2:\n            passVal = False\n            if columnNum == 1:\n                if passVal == False and cell.string[1].isdigit():\n                    postalCodes.append(cell.string);   \n                    columnNum = 2\n                else:\n                    continue\n            elif columnNum == 2 :\n                if cell.string == 'Not assigned':\n                    passVal = True\n                    del postalCodes[-1]\n                    columnNum = 1\n                    continue\n                else:\n                    boroughs.append(cell.string);      \n                    columnNum = 3\n            elif columnNum == 3 :\n                if cell.string == 'Not assigned\\n':\n                    neighborhoods.append(boroughs[-1])\n                else:\n                    neighborhoods.append(cell.string); \n                columnNum = 1\n                \nprint('Data Collected.')"
        },
        {
            "cell_type": "code",
            "execution_count": 26,
            "metadata": {},
            "outputs": [
                {
                    "data": {
                        "text/html": "<div>\n<style scoped>\n    .dataframe tbody tr th:only-of-type {\n        vertical-align: middle;\n    }\n\n    .dataframe tbody tr th {\n        vertical-align: top;\n    }\n\n    .dataframe thead th {\n        text-align: right;\n    }\n</style>\n<table border=\"1\" class=\"dataframe\">\n  <thead>\n    <tr style=\"text-align: right;\">\n      <th></th>\n      <th>PostalCode</th>\n      <th>Borough</th>\n      <th>Neighborhood</th>\n      <th>Latitude</th>\n      <th>Longitude</th>\n    </tr>\n  </thead>\n  <tbody>\n  </tbody>\n</table>\n</div>",
                        "text/plain": "Empty DataFrame\nColumns: [PostalCode, Borough, Neighborhood, Latitude, Longitude]\nIndex: []"
                    },
                    "execution_count": 26,
                    "metadata": {},
                    "output_type": "execute_result"
                }
            ],
            "source": "# define the dataframe columns\ncolumn_names = ['PostalCode', 'Borough', 'Neighborhood', 'Latitude', 'Longitude'] \n\n# instantiate the dataframe\nneighbors = pd.DataFrame(columns=column_names)\n\nneighbors"
        },
        {
            "cell_type": "code",
            "execution_count": 27,
            "metadata": {},
            "outputs": [],
            "source": "# initialize your variable to None\nlat_lng_coords = None\n\nfor data in range(0, len(postalCodes)-1):\n    code = postalCodes[data]\n    borough = boroughs[data]\n    neighborhood_name = neighborhoods[data]\n    \n    g = geocoder.arcgis('{}, Toronto, Ontario'.format(code))\n    lat_lng_coords = g.latlng\n\n    neighbors = neighbors.append({ 'PostalCode': code,\n                                   'Borough': borough,\n                                   'Neighborhood': neighborhood_name,\n                                   'Latitude': lat_lng_coords[0],\n                                   'Longitude': lat_lng_coords[1]}, ignore_index=True)"
        },
        {
            "cell_type": "code",
            "execution_count": 28,
            "metadata": {},
            "outputs": [
                {
                    "data": {
                        "text/html": "<div>\n<style scoped>\n    .dataframe tbody tr th:only-of-type {\n        vertical-align: middle;\n    }\n\n    .dataframe tbody tr th {\n        vertical-align: top;\n    }\n\n    .dataframe thead th {\n        text-align: right;\n    }\n</style>\n<table border=\"1\" class=\"dataframe\">\n  <thead>\n    <tr style=\"text-align: right;\">\n      <th></th>\n      <th>PostalCode</th>\n      <th>Borough</th>\n      <th>Neighborhood</th>\n      <th>Latitude</th>\n      <th>Longitude</th>\n    </tr>\n  </thead>\n  <tbody>\n    <tr>\n      <th>0</th>\n      <td>M3A</td>\n      <td>North York</td>\n      <td>Parkwoods</td>\n      <td>43.752420</td>\n      <td>-79.329242</td>\n    </tr>\n    <tr>\n      <th>1</th>\n      <td>M4A</td>\n      <td>North York</td>\n      <td>Victoria Village</td>\n      <td>43.730600</td>\n      <td>-79.313265</td>\n    </tr>\n    <tr>\n      <th>2</th>\n      <td>M5A</td>\n      <td>Downtown Toronto</td>\n      <td>Harbourfront</td>\n      <td>43.650295</td>\n      <td>-79.359166</td>\n    </tr>\n    <tr>\n      <th>3</th>\n      <td>M6A</td>\n      <td>North York</td>\n      <td>Lawrence Heights</td>\n      <td>43.723270</td>\n      <td>-79.451286</td>\n    </tr>\n    <tr>\n      <th>4</th>\n      <td>M6A</td>\n      <td>North York</td>\n      <td>Lawrence Manor</td>\n      <td>43.723270</td>\n      <td>-79.451286</td>\n    </tr>\n    <tr>\n      <th>5</th>\n      <td>M7A</td>\n      <td>Queen's Park</td>\n      <td>Queen's Park</td>\n      <td>43.661150</td>\n      <td>-79.391715</td>\n    </tr>\n    <tr>\n      <th>6</th>\n      <td>M9A</td>\n      <td>Queen's Park</td>\n      <td>Queen's Park</td>\n      <td>43.662299</td>\n      <td>-79.528195</td>\n    </tr>\n    <tr>\n      <th>7</th>\n      <td>M1B</td>\n      <td>Scarborough</td>\n      <td>Rouge</td>\n      <td>43.811525</td>\n      <td>-79.195517</td>\n    </tr>\n    <tr>\n      <th>8</th>\n      <td>M1B</td>\n      <td>Scarborough</td>\n      <td>Malvern</td>\n      <td>43.811525</td>\n      <td>-79.195517</td>\n    </tr>\n    <tr>\n      <th>9</th>\n      <td>M3B</td>\n      <td>North York</td>\n      <td>Don Mills North</td>\n      <td>43.749055</td>\n      <td>-79.362227</td>\n    </tr>\n    <tr>\n      <th>10</th>\n      <td>M4B</td>\n      <td>East York</td>\n      <td>Woodbine Gardens</td>\n      <td>43.707535</td>\n      <td>-79.311773</td>\n    </tr>\n    <tr>\n      <th>11</th>\n      <td>M4B</td>\n      <td>East York</td>\n      <td>Parkview Hill</td>\n      <td>43.707535</td>\n      <td>-79.311773</td>\n    </tr>\n    <tr>\n      <th>12</th>\n      <td>M5B</td>\n      <td>Downtown Toronto</td>\n      <td>Ryerson</td>\n      <td>43.657363</td>\n      <td>-79.378180</td>\n    </tr>\n    <tr>\n      <th>13</th>\n      <td>M5B</td>\n      <td>Downtown Toronto</td>\n      <td>Garden District</td>\n      <td>43.657363</td>\n      <td>-79.378180</td>\n    </tr>\n    <tr>\n      <th>14</th>\n      <td>M6B</td>\n      <td>North York</td>\n      <td>Glencairn</td>\n      <td>43.707990</td>\n      <td>-79.448367</td>\n    </tr>\n    <tr>\n      <th>15</th>\n      <td>M9B</td>\n      <td>Etobicoke</td>\n      <td>Cloverdale</td>\n      <td>43.650347</td>\n      <td>-79.555040</td>\n    </tr>\n    <tr>\n      <th>16</th>\n      <td>M9B</td>\n      <td>Etobicoke</td>\n      <td>Islington</td>\n      <td>43.650347</td>\n      <td>-79.555040</td>\n    </tr>\n    <tr>\n      <th>17</th>\n      <td>M9B</td>\n      <td>Etobicoke</td>\n      <td>Martin Grove</td>\n      <td>43.650347</td>\n      <td>-79.555040</td>\n    </tr>\n    <tr>\n      <th>18</th>\n      <td>M9B</td>\n      <td>Etobicoke</td>\n      <td>Princess Gardens</td>\n      <td>43.650347</td>\n      <td>-79.555040</td>\n    </tr>\n    <tr>\n      <th>19</th>\n      <td>M9B</td>\n      <td>Etobicoke</td>\n      <td>West Deane Park</td>\n      <td>43.650347</td>\n      <td>-79.555040</td>\n    </tr>\n    <tr>\n      <th>20</th>\n      <td>M1C</td>\n      <td>Scarborough</td>\n      <td>Highland Creek</td>\n      <td>43.785665</td>\n      <td>-79.158725</td>\n    </tr>\n    <tr>\n      <th>21</th>\n      <td>M1C</td>\n      <td>Scarborough</td>\n      <td>Rouge Hill</td>\n      <td>43.785665</td>\n      <td>-79.158725</td>\n    </tr>\n    <tr>\n      <th>22</th>\n      <td>M1C</td>\n      <td>Scarborough</td>\n      <td>Port Union</td>\n      <td>43.785665</td>\n      <td>-79.158725</td>\n    </tr>\n    <tr>\n      <th>23</th>\n      <td>M3C</td>\n      <td>North York</td>\n      <td>Flemingdon Park</td>\n      <td>43.721425</td>\n      <td>-79.343454</td>\n    </tr>\n    <tr>\n      <th>24</th>\n      <td>M3C</td>\n      <td>North York</td>\n      <td>Don Mills South</td>\n      <td>43.721425</td>\n      <td>-79.343454</td>\n    </tr>\n    <tr>\n      <th>25</th>\n      <td>M4C</td>\n      <td>East York</td>\n      <td>Woodbine Heights</td>\n      <td>43.689640</td>\n      <td>-79.306874</td>\n    </tr>\n    <tr>\n      <th>26</th>\n      <td>M5C</td>\n      <td>Downtown Toronto</td>\n      <td>St. James Town</td>\n      <td>43.651210</td>\n      <td>-79.375481</td>\n    </tr>\n    <tr>\n      <th>27</th>\n      <td>M6C</td>\n      <td>York</td>\n      <td>Humewood-Cedarvale</td>\n      <td>43.692105</td>\n      <td>-79.430355</td>\n    </tr>\n    <tr>\n      <th>28</th>\n      <td>M9C</td>\n      <td>Etobicoke</td>\n      <td>Bloordale Gardens</td>\n      <td>43.648573</td>\n      <td>-79.578250</td>\n    </tr>\n    <tr>\n      <th>29</th>\n      <td>M9C</td>\n      <td>Etobicoke</td>\n      <td>Eringate</td>\n      <td>43.648573</td>\n      <td>-79.578250</td>\n    </tr>\n    <tr>\n      <th>...</th>\n      <td>...</td>\n      <td>...</td>\n      <td>...</td>\n      <td>...</td>\n      <td>...</td>\n    </tr>\n    <tr>\n      <th>179</th>\n      <td>M9V</td>\n      <td>Etobicoke</td>\n      <td>South Steeles</td>\n      <td>43.743145</td>\n      <td>-79.584664</td>\n    </tr>\n    <tr>\n      <th>180</th>\n      <td>M9V</td>\n      <td>Etobicoke</td>\n      <td>Thistletown</td>\n      <td>43.743145</td>\n      <td>-79.584664</td>\n    </tr>\n    <tr>\n      <th>181</th>\n      <td>M1W</td>\n      <td>Scarborough</td>\n      <td>L'Amoreaux West</td>\n      <td>43.800883</td>\n      <td>-79.320740</td>\n    </tr>\n    <tr>\n      <th>182</th>\n      <td>M4W</td>\n      <td>Downtown Toronto</td>\n      <td>Rosedale</td>\n      <td>43.682205</td>\n      <td>-79.377945</td>\n    </tr>\n    <tr>\n      <th>183</th>\n      <td>M5W</td>\n      <td>Downtown Toronto</td>\n      <td>Stn A PO Boxes 25 The Esplanade</td>\n      <td>43.648690</td>\n      <td>-79.385440</td>\n    </tr>\n    <tr>\n      <th>184</th>\n      <td>M8W</td>\n      <td>Etobicoke</td>\n      <td>Alderwood</td>\n      <td>43.601131</td>\n      <td>-79.538785</td>\n    </tr>\n    <tr>\n      <th>185</th>\n      <td>M8W</td>\n      <td>Etobicoke</td>\n      <td>Long Branch</td>\n      <td>43.601131</td>\n      <td>-79.538785</td>\n    </tr>\n    <tr>\n      <th>186</th>\n      <td>M9W</td>\n      <td>Etobicoke</td>\n      <td>Northwest</td>\n      <td>43.711740</td>\n      <td>-79.579181</td>\n    </tr>\n    <tr>\n      <th>187</th>\n      <td>M1X</td>\n      <td>Scarborough</td>\n      <td>Upper Rouge</td>\n      <td>43.834215</td>\n      <td>-79.216701</td>\n    </tr>\n    <tr>\n      <th>188</th>\n      <td>M4X</td>\n      <td>Downtown Toronto</td>\n      <td>Cabbagetown</td>\n      <td>43.668160</td>\n      <td>-79.366602</td>\n    </tr>\n    <tr>\n      <th>189</th>\n      <td>M4X</td>\n      <td>Downtown Toronto</td>\n      <td>St. James Town</td>\n      <td>43.668160</td>\n      <td>-79.366602</td>\n    </tr>\n    <tr>\n      <th>190</th>\n      <td>M5X</td>\n      <td>Downtown Toronto</td>\n      <td>First Canadian Place</td>\n      <td>43.648280</td>\n      <td>-79.381461</td>\n    </tr>\n    <tr>\n      <th>191</th>\n      <td>M5X</td>\n      <td>Downtown Toronto</td>\n      <td>Underground city</td>\n      <td>43.648280</td>\n      <td>-79.381461</td>\n    </tr>\n    <tr>\n      <th>192</th>\n      <td>M8X</td>\n      <td>Etobicoke</td>\n      <td>The Kingsway</td>\n      <td>43.653760</td>\n      <td>-79.510890</td>\n    </tr>\n    <tr>\n      <th>193</th>\n      <td>M8X</td>\n      <td>Etobicoke</td>\n      <td>Montgomery Road</td>\n      <td>43.653760</td>\n      <td>-79.510890</td>\n    </tr>\n    <tr>\n      <th>194</th>\n      <td>M8X</td>\n      <td>Etobicoke</td>\n      <td>Old Mill North</td>\n      <td>43.653760</td>\n      <td>-79.510890</td>\n    </tr>\n    <tr>\n      <th>195</th>\n      <td>M4Y</td>\n      <td>Downtown Toronto</td>\n      <td>Church and Wellesley</td>\n      <td>43.666585</td>\n      <td>-79.381302</td>\n    </tr>\n    <tr>\n      <th>196</th>\n      <td>M7Y</td>\n      <td>East Toronto</td>\n      <td>Business Reply Mail Processing Centre 969 East...</td>\n      <td>43.648690</td>\n      <td>-79.385440</td>\n    </tr>\n    <tr>\n      <th>197</th>\n      <td>M8Y</td>\n      <td>Etobicoke</td>\n      <td>Humber Bay</td>\n      <td>43.632835</td>\n      <td>-79.489550</td>\n    </tr>\n    <tr>\n      <th>198</th>\n      <td>M8Y</td>\n      <td>Etobicoke</td>\n      <td>King's Mill Park</td>\n      <td>43.632835</td>\n      <td>-79.489550</td>\n    </tr>\n    <tr>\n      <th>199</th>\n      <td>M8Y</td>\n      <td>Etobicoke</td>\n      <td>Kingsway Park South East</td>\n      <td>43.632835</td>\n      <td>-79.489550</td>\n    </tr>\n    <tr>\n      <th>200</th>\n      <td>M8Y</td>\n      <td>Etobicoke</td>\n      <td>Mimico NE</td>\n      <td>43.632835</td>\n      <td>-79.489550</td>\n    </tr>\n    <tr>\n      <th>201</th>\n      <td>M8Y</td>\n      <td>Etobicoke</td>\n      <td>Old Mill South</td>\n      <td>43.632835</td>\n      <td>-79.489550</td>\n    </tr>\n    <tr>\n      <th>202</th>\n      <td>M8Y</td>\n      <td>Etobicoke</td>\n      <td>The Queensway East</td>\n      <td>43.632835</td>\n      <td>-79.489550</td>\n    </tr>\n    <tr>\n      <th>203</th>\n      <td>M8Y</td>\n      <td>Etobicoke</td>\n      <td>Royal York South East</td>\n      <td>43.632835</td>\n      <td>-79.489550</td>\n    </tr>\n    <tr>\n      <th>204</th>\n      <td>M8Y</td>\n      <td>Etobicoke</td>\n      <td>Sunnylea</td>\n      <td>43.632835</td>\n      <td>-79.489550</td>\n    </tr>\n    <tr>\n      <th>205</th>\n      <td>M8Z</td>\n      <td>Etobicoke</td>\n      <td>Kingsway Park South West</td>\n      <td>43.624630</td>\n      <td>-79.526950</td>\n    </tr>\n    <tr>\n      <th>206</th>\n      <td>M8Z</td>\n      <td>Etobicoke</td>\n      <td>Mimico NW</td>\n      <td>43.624630</td>\n      <td>-79.526950</td>\n    </tr>\n    <tr>\n      <th>207</th>\n      <td>M8Z</td>\n      <td>Etobicoke</td>\n      <td>The Queensway West</td>\n      <td>43.624630</td>\n      <td>-79.526950</td>\n    </tr>\n    <tr>\n      <th>208</th>\n      <td>M8Z</td>\n      <td>Etobicoke</td>\n      <td>Royal York South West</td>\n      <td>43.624630</td>\n      <td>-79.526950</td>\n    </tr>\n  </tbody>\n</table>\n<p>209 rows \u00d7 5 columns</p>\n</div>",
                        "text/plain": "    PostalCode           Borough  \\\n0          M3A        North York   \n1          M4A        North York   \n2          M5A  Downtown Toronto   \n3          M6A        North York   \n4          M6A        North York   \n5          M7A      Queen's Park   \n6          M9A      Queen's Park   \n7          M1B       Scarborough   \n8          M1B       Scarborough   \n9          M3B        North York   \n10         M4B         East York   \n11         M4B         East York   \n12         M5B  Downtown Toronto   \n13         M5B  Downtown Toronto   \n14         M6B        North York   \n15         M9B         Etobicoke   \n16         M9B         Etobicoke   \n17         M9B         Etobicoke   \n18         M9B         Etobicoke   \n19         M9B         Etobicoke   \n20         M1C       Scarborough   \n21         M1C       Scarborough   \n22         M1C       Scarborough   \n23         M3C        North York   \n24         M3C        North York   \n25         M4C         East York   \n26         M5C  Downtown Toronto   \n27         M6C              York   \n28         M9C         Etobicoke   \n29         M9C         Etobicoke   \n..         ...               ...   \n179        M9V         Etobicoke   \n180        M9V         Etobicoke   \n181        M1W       Scarborough   \n182        M4W  Downtown Toronto   \n183        M5W  Downtown Toronto   \n184        M8W         Etobicoke   \n185        M8W         Etobicoke   \n186        M9W         Etobicoke   \n187        M1X       Scarborough   \n188        M4X  Downtown Toronto   \n189        M4X  Downtown Toronto   \n190        M5X  Downtown Toronto   \n191        M5X  Downtown Toronto   \n192        M8X         Etobicoke   \n193        M8X         Etobicoke   \n194        M8X         Etobicoke   \n195        M4Y  Downtown Toronto   \n196        M7Y      East Toronto   \n197        M8Y         Etobicoke   \n198        M8Y         Etobicoke   \n199        M8Y         Etobicoke   \n200        M8Y         Etobicoke   \n201        M8Y         Etobicoke   \n202        M8Y         Etobicoke   \n203        M8Y         Etobicoke   \n204        M8Y         Etobicoke   \n205        M8Z         Etobicoke   \n206        M8Z         Etobicoke   \n207        M8Z         Etobicoke   \n208        M8Z         Etobicoke   \n\n                                          Neighborhood   Latitude  Longitude  \n0                                            Parkwoods  43.752420 -79.329242  \n1                                     Victoria Village  43.730600 -79.313265  \n2                                         Harbourfront  43.650295 -79.359166  \n3                                     Lawrence Heights  43.723270 -79.451286  \n4                                       Lawrence Manor  43.723270 -79.451286  \n5                                         Queen's Park  43.661150 -79.391715  \n6                                         Queen's Park  43.662299 -79.528195  \n7                                                Rouge  43.811525 -79.195517  \n8                                              Malvern  43.811525 -79.195517  \n9                                     Don Mills North\n  43.749055 -79.362227  \n10                                    Woodbine Gardens  43.707535 -79.311773  \n11                                       Parkview Hill  43.707535 -79.311773  \n12                                            Ryerson\n  43.657363 -79.378180  \n13                                    Garden District\n  43.657363 -79.378180  \n14                                          Glencairn\n  43.707990 -79.448367  \n15                                         Cloverdale\n  43.650347 -79.555040  \n16                                           Islington  43.650347 -79.555040  \n17                                       Martin Grove\n  43.650347 -79.555040  \n18                                    Princess Gardens  43.650347 -79.555040  \n19                                     West Deane Park  43.650347 -79.555040  \n20                                      Highland Creek  43.785665 -79.158725  \n21                                          Rouge Hill  43.785665 -79.158725  \n22                                          Port Union  43.785665 -79.158725  \n23                                     Flemingdon Park  43.721425 -79.343454  \n24                                    Don Mills South\n  43.721425 -79.343454  \n25                                    Woodbine Heights  43.689640 -79.306874  \n26                                      St. James Town  43.651210 -79.375481  \n27                                  Humewood-Cedarvale  43.692105 -79.430355  \n28                                  Bloordale Gardens\n  43.648573 -79.578250  \n29                                           Eringate\n  43.648573 -79.578250  \n..                                                 ...        ...        ...  \n179                                      South Steeles  43.743145 -79.584664  \n180                                        Thistletown  43.743145 -79.584664  \n181                                   L'Amoreaux West\n  43.800883 -79.320740  \n182                                           Rosedale  43.682205 -79.377945  \n183                   Stn A PO Boxes 25 The Esplanade\n  43.648690 -79.385440  \n184                                          Alderwood  43.601131 -79.538785  \n185                                        Long Branch  43.601131 -79.538785  \n186                                         Northwest\n  43.711740 -79.579181  \n187                                        Upper Rouge  43.834215 -79.216701  \n188                                        Cabbagetown  43.668160 -79.366602  \n189                                     St. James Town  43.668160 -79.366602  \n190                               First Canadian Place  43.648280 -79.381461  \n191                                   Underground city  43.648280 -79.381461  \n192                                       The Kingsway  43.653760 -79.510890  \n193                                   Montgomery Road\n  43.653760 -79.510890  \n194                                    Old Mill North\n  43.653760 -79.510890  \n195                               Church and Wellesley  43.666585 -79.381302  \n196  Business Reply Mail Processing Centre 969 East...  43.648690 -79.385440  \n197                                         Humber Bay  43.632835 -79.489550  \n198                                  King's Mill Park\n  43.632835 -79.489550  \n199                          Kingsway Park South East\n  43.632835 -79.489550  \n200                                          Mimico NE  43.632835 -79.489550  \n201                                     Old Mill South  43.632835 -79.489550  \n202                                 The Queensway East  43.632835 -79.489550  \n203                              Royal York South East  43.632835 -79.489550  \n204                                           Sunnylea  43.632835 -79.489550  \n205                          Kingsway Park South West\n  43.624630 -79.526950  \n206                                          Mimico NW  43.624630 -79.526950  \n207                                 The Queensway West  43.624630 -79.526950  \n208                             Royal York South West\n  43.624630 -79.526950  \n\n[209 rows x 5 columns]"
                    },
                    "execution_count": 28,
                    "metadata": {},
                    "output_type": "execute_result"
                }
            ],
            "source": "neighbors"
        },
        {
            "cell_type": "code",
            "execution_count": 29,
            "metadata": {},
            "outputs": [
                {
                    "data": {
                        "text/plain": "(209, 5)"
                    },
                    "execution_count": 29,
                    "metadata": {},
                    "output_type": "execute_result"
                }
            ],
            "source": "neighbors.shape"
        },
        {
            "cell_type": "code",
            "execution_count": null,
            "metadata": {},
            "outputs": [],
            "source": ""
        }
    ],
    "metadata": {
        "kernelspec": {
            "display_name": "Python 3.6",
            "language": "python",
            "name": "python3"
        },
        "language_info": {
            "codemirror_mode": {
                "name": "ipython",
                "version": 3
            },
            "file_extension": ".py",
            "mimetype": "text/x-python",
            "name": "python",
            "nbconvert_exporter": "python",
            "pygments_lexer": "ipython3",
            "version": "3.6.8"
        }
    },
    "nbformat": 4,
    "nbformat_minor": 1
}